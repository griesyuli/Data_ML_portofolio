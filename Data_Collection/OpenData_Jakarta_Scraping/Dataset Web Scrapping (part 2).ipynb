{
 "cells": [
  {
   "cell_type": "code",
   "execution_count": 249,
   "metadata": {},
   "outputs": [],
   "source": [
    "import requests as rq\n",
    "from bs4 import BeautifulSoup as bsoup\n",
    "import pandas as pd"
   ]
  },
  {
   "cell_type": "markdown",
   "metadata": {},
   "source": [
    "# Kunjungi setiap halaman dataset"
   ]
  },
  {
   "cell_type": "code",
   "execution_count": 250,
   "metadata": {},
   "outputs": [
    {
     "data": {
      "text/html": [
       "<div>\n",
       "<style scoped>\n",
       "    .dataframe tbody tr th:only-of-type {\n",
       "        vertical-align: middle;\n",
       "    }\n",
       "\n",
       "    .dataframe tbody tr th {\n",
       "        vertical-align: top;\n",
       "    }\n",
       "\n",
       "    .dataframe thead th {\n",
       "        text-align: right;\n",
       "    }\n",
       "</style>\n",
       "<table border=\"1\" class=\"dataframe\">\n",
       "  <thead>\n",
       "    <tr style=\"text-align: right;\">\n",
       "      <th></th>\n",
       "      <th>title</th>\n",
       "      <th>url</th>\n",
       "    </tr>\n",
       "  </thead>\n",
       "  <tbody>\n",
       "    <tr>\n",
       "      <th>0</th>\n",
       "      <td>Persentase Hasil Pengujian Pangan Bebas Bahan ...</td>\n",
       "      <td>/dataset/persentase-pangan-yang-bebas-bahan-be...</td>\n",
       "    </tr>\n",
       "    <tr>\n",
       "      <th>1</th>\n",
       "      <td>Data Korban Kekerasan Terhadap Perempuan dan A...</td>\n",
       "      <td>/dataset/data-kekerasan-terhadap-perempuan-dan...</td>\n",
       "    </tr>\n",
       "    <tr>\n",
       "      <th>2</th>\n",
       "      <td>Data Jumlah Korban Kekerasan Terhadap Perempua...</td>\n",
       "      <td>/dataset/jumlah-korban-kekerasan-terhadap-pere...</td>\n",
       "    </tr>\n",
       "    <tr>\n",
       "      <th>3</th>\n",
       "      <td>Data Jumlah Korban Kekerasan Terhadap Perempua...</td>\n",
       "      <td>/dataset/jumlah-korban-kekerasan-terhadap-pere...</td>\n",
       "    </tr>\n",
       "    <tr>\n",
       "      <th>4</th>\n",
       "      <td>Data Persentase Korban Kekerasan Yang Mendapat...</td>\n",
       "      <td>/dataset/persentase-korban-kekerasan-yang-mend...</td>\n",
       "    </tr>\n",
       "  </tbody>\n",
       "</table>\n",
       "</div>"
      ],
      "text/plain": [
       "                                               title  \\\n",
       "0  Persentase Hasil Pengujian Pangan Bebas Bahan ...   \n",
       "1  Data Korban Kekerasan Terhadap Perempuan dan A...   \n",
       "2  Data Jumlah Korban Kekerasan Terhadap Perempua...   \n",
       "3  Data Jumlah Korban Kekerasan Terhadap Perempua...   \n",
       "4  Data Persentase Korban Kekerasan Yang Mendapat...   \n",
       "\n",
       "                                                 url  \n",
       "0  /dataset/persentase-pangan-yang-bebas-bahan-be...  \n",
       "1  /dataset/data-kekerasan-terhadap-perempuan-dan...  \n",
       "2  /dataset/jumlah-korban-kekerasan-terhadap-pere...  \n",
       "3  /dataset/jumlah-korban-kekerasan-terhadap-pere...  \n",
       "4  /dataset/persentase-korban-kekerasan-yang-mend...  "
      ]
     },
     "execution_count": 250,
     "metadata": {},
     "output_type": "execute_result"
    }
   ],
   "source": [
    "dataset = pd.read_csv('dataset_jakarta.csv')\n",
    "dataset.head()"
   ]
  },
  {
   "cell_type": "code",
   "execution_count": 251,
   "metadata": {},
   "outputs": [],
   "source": [
    "url = dataset['url']"
   ]
  },
  {
   "cell_type": "code",
   "execution_count": 252,
   "metadata": {},
   "outputs": [
    {
     "data": {
      "text/plain": [
       "pandas.core.series.Series"
      ]
     },
     "execution_count": 252,
     "metadata": {},
     "output_type": "execute_result"
    }
   ],
   "source": [
    "type(url[:3])"
   ]
  },
  {
   "cell_type": "code",
   "execution_count": 253,
   "metadata": {},
   "outputs": [
    {
     "name": "stdout",
     "output_type": "stream",
     "text": [
      "http://data.jakarta.go.id/dataset/persentase-pangan-yang-bebas-bahan-berbahaya-tahun-2019\n"
     ]
    }
   ],
   "source": [
    "print ('http://data.jakarta.go.id'+url[0])"
   ]
  },
  {
   "cell_type": "code",
   "execution_count": 254,
   "metadata": {},
   "outputs": [
    {
     "data": {
      "text/plain": [
       "3"
      ]
     },
     "execution_count": 254,
     "metadata": {},
     "output_type": "execute_result"
    }
   ],
   "source": [
    "url[url == '/dataset/jumlah-korban-kekerasan-terhadap-perempuan-dan-anak-berdasarkan-usia-pelaku-dan-klien-tahun-2019'].index[0]"
   ]
  },
  {
   "cell_type": "code",
   "execution_count": 259,
   "metadata": {},
   "outputs": [],
   "source": [
    "dtset_title = []\n",
    "dtset_ket = []\n",
    "dtset_ndata = []\n",
    "dtset_data = []\n",
    "dtset_csvperdata = []"
   ]
  },
  {
   "cell_type": "code",
   "execution_count": 311,
   "metadata": {
    "scrolled": true
   },
   "outputs": [
    {
     "name": "stdout",
     "output_type": "stream",
     "text": [
      "\n",
      "===== Dataset ke 1581\n",
      "===== URL : ruangterbukahijaudkijakarta\n",
      "Jumlah data = 1\n",
      "Jumlah data csv = 1\n",
      "\n",
      "===== Dataset ke 1582\n",
      "===== URL : databuskecildkijakarta\n",
      "Jumlah data = 1\n",
      "Jumlah data csv = 1\n",
      "\n",
      "===== Dataset ke 1583\n",
      "===== URL : nilaieksporperikananmelaluilpmhpmenurutbulandannegaratujuandkijakarta\n",
      "Jumlah data = 1\n",
      "Jumlah data csv = 1\n",
      "\n",
      "===== Dataset ke 1584\n",
      "===== URL : daftarpelayanankesehatandipasardanrumahsusundkijakarta\n",
      "Jumlah data = 1\n",
      "Jumlah data csv = 1\n",
      "\n",
      "===== Dataset ke 1585\n",
      "===== URL : daerahrawanbanjirdkijakarta\n",
      "Jumlah data = 1\n",
      "Jumlah data csv = 1\n",
      "\n",
      "===== Dataset ke 1586\n",
      "===== URL : banyaknyapelangganmenurutjenissumurdankondisinyajakarta\n",
      "Jumlah data = 1\n",
      "Jumlah data csv = 1\n",
      "\n",
      "===== Dataset ke 1587\n",
      "===== URL : produktivitastenagakerjaberdasarkansektor\n",
      "Jumlah data = 1\n",
      "Jumlah data csv = 1\n",
      "\n",
      "===== Dataset ke 1588\n",
      "===== URL : produkdomestikbruto-pdb-jakarta\n",
      "Jumlah data = 1\n",
      "Jumlah data csv = 1\n",
      "\n",
      "===== Dataset ke 1589\n",
      "===== URL : lajupertumbuhanekonomijakartadannasional\n",
      "Jumlah data = 1\n",
      "Jumlah data csv = 1\n",
      "\n",
      "===== Dataset ke 1590\n",
      "===== URL : komponeninflasijakarta\n",
      "Jumlah data = 1\n",
      "Jumlah data csv = 1\n",
      "\n",
      "===== Dataset ke 1591\n",
      "===== URL : perkembangannilaieksporimpormelaluidkijakartadaneksporproduk\n",
      "Jumlah data = 1\n",
      "Jumlah data csv = 1\n",
      "\n",
      "===== Dataset ke 1592\n",
      "===== URL : data-usaha-jasa-akomodasi-hotel-bintang\n",
      "Jumlah data = 1\n",
      "Jumlah data csv = 1\n",
      "\n",
      "!!!!! DONE !!!!!\n"
     ]
    }
   ],
   "source": [
    "# dtset_title = []\n",
    "# dtset_ket = []\n",
    "# dtset_ndata = []\n",
    "# dtset_data = []\n",
    "# dtset_csvperdata = []\n",
    "\n",
    "prefix = 'http://data.jakarta.go.id'\n",
    "\n",
    "for u in url[1580:]:\n",
    "    index = url[url == u].index[0]\n",
    "    print ('\\n===== Dataset ke', index+1)\n",
    "    print ('===== URL :', u[9:])\n",
    "    r = rq.get(prefix+u)\n",
    "    soup = bsoup(r.text, 'html.parser')\n",
    "    r.close()\n",
    "    \n",
    "    for ctn in soup.findAll('div', attrs={'class':'primary span9'}):\n",
    "#         print (ctn)\n",
    "\n",
    "        # ----- Getting Title of Dataset\n",
    "        title_tag = (ctn.find('h1'))\n",
    "        for st in title_tag.stripped_strings: # remove a lot of extra whitespace by stripped_strings\n",
    "            title = ((st))\n",
    "#             print (title)\n",
    "            dtset_title.append(title)\n",
    "        \n",
    "        # ----- Getting Explanation of Dataset\n",
    "        ket_tag = (ctn.find('div', attrs={'class':'notes embedded-content'}))\n",
    "#         print (ket_tag)\n",
    "        ket = []\n",
    "        for st in ket_tag.stripped_strings: # remove a lot of extra whitespace by stripped_strings\n",
    "            ket.append(st)\n",
    "#             print (ket)\n",
    "        dtset_ket.append(\"\\n\".join(ket))\n",
    "            \n",
    "        # ----- Getting data and resources\n",
    "        dat_tag = (ctn.find('ul', attrs={'class':'resource-list'}))\n",
    "#         print (dat_tag)\n",
    "        \n",
    "        # === Getting title of data\n",
    "        data_title_list = []\n",
    "        a_tag = dat_tag.findAll('a', attrs={'class':'heading'})\n",
    "        for a in a_tag:\n",
    "            data = (a['title'])\n",
    "            data_title_list.append(data)\n",
    "        print ('Jumlah data =', len(data_title_list))\n",
    "        dtset_data.append(\";*;\".join(data_title_list))\n",
    "        dtset_ndata.append(len(data_title_list))\n",
    "        \n",
    "        # === Getting CSV (JSON format) of data\n",
    "        data_json_list = []\n",
    "        ul_tag = dat_tag.findAll('ul', attrs={'class':'dropdown-menu'})\n",
    "#         print (ul_tag)\n",
    "        for ul in ul_tag:\n",
    "            li_tag = (ul.findAll('li'))\n",
    "#             print (len(li_tag))   \n",
    "            \n",
    "            li_json = li_tag[2]\n",
    "#             print (li_json.a['href'])\n",
    "            data_json_list.append(li_json.a['href'])\n",
    "#         print (data_json_list)\n",
    "        print ('Jumlah data csv =', len(data_json_list))\n",
    "        dtset_csvperdata.append(\";*;\".join(data_json_list))\n",
    "        \n",
    "#             for li in li_tag:\n",
    "#                 print (li.a.contents[2])\n",
    "#                 print ((li.a.contents[2]) in 'See JSON')\n",
    "        \n",
    "    # ----- Save each dataset\n",
    "#     print (ket)\n",
    "#     print (len(data_title_list))\n",
    "#     print (data_title_list)\n",
    "#     print (data_json_list)\n",
    "\n",
    "\n",
    "#     p = Path('Dataset/')\n",
    "# input_file.to_csv(Path(p, 'match_' + filename + '.csv')), index=False)\n",
    "\n",
    "    data_dict = {'title':title, 'keterangan':ket, 'jumlah_data':(len(data_title_list)), 'title_per_data':data_title_list, 'csv_per_data':data_json_list}\n",
    "#     print (data_dict)\n",
    "    df = pd.DataFrame(data_dict, columns= ['title_per_data', 'csv_per_data'])\n",
    "    export_csv = df.to_csv ('Dataset/' + str(u[9:]) + '.csv', index = None, header=True) \n",
    "    \n",
    "#     print (df.head())\n",
    "\n",
    "print ('\\n!!!!! DONE !!!!!')"
   ]
  },
  {
   "cell_type": "code",
   "execution_count": 312,
   "metadata": {},
   "outputs": [],
   "source": [
    "# dtset_title"
   ]
  },
  {
   "cell_type": "code",
   "execution_count": 313,
   "metadata": {},
   "outputs": [],
   "source": [
    "# dtset_ket"
   ]
  },
  {
   "cell_type": "code",
   "execution_count": 314,
   "metadata": {},
   "outputs": [],
   "source": [
    "# dtset_ndata"
   ]
  },
  {
   "cell_type": "code",
   "execution_count": 315,
   "metadata": {},
   "outputs": [],
   "source": [
    "# dtset_data"
   ]
  },
  {
   "cell_type": "code",
   "execution_count": 316,
   "metadata": {},
   "outputs": [],
   "source": [
    "# dtset_csvperdata"
   ]
  },
  {
   "cell_type": "code",
   "execution_count": 317,
   "metadata": {},
   "outputs": [
    {
     "ename": "ValueError",
     "evalue": "arrays must all be same length",
     "output_type": "error",
     "traceback": [
      "\u001b[1;31m---------------------------------------------------------------------------\u001b[0m",
      "\u001b[1;31mValueError\u001b[0m                                Traceback (most recent call last)",
      "\u001b[1;32m<ipython-input-317-9a4881322830>\u001b[0m in \u001b[0;36m<module>\u001b[1;34m\u001b[0m\n\u001b[0;32m      1\u001b[0m \u001b[0mdataset_dict\u001b[0m \u001b[1;33m=\u001b[0m \u001b[1;33m{\u001b[0m\u001b[1;34m'title'\u001b[0m\u001b[1;33m:\u001b[0m\u001b[0mdtset_title\u001b[0m\u001b[1;33m,\u001b[0m \u001b[1;34m'keterangan'\u001b[0m\u001b[1;33m:\u001b[0m\u001b[0mdtset_ket\u001b[0m\u001b[1;33m,\u001b[0m \u001b[1;34m'jumlah_data'\u001b[0m\u001b[1;33m:\u001b[0m\u001b[0mdtset_ndata\u001b[0m\u001b[1;33m,\u001b[0m \u001b[1;34m'title_per_data'\u001b[0m\u001b[1;33m:\u001b[0m\u001b[0mdtset_data\u001b[0m\u001b[1;33m,\u001b[0m \u001b[1;34m'csv_per_data'\u001b[0m\u001b[1;33m:\u001b[0m\u001b[0mdtset_csvperdata\u001b[0m\u001b[1;33m}\u001b[0m\u001b[1;33m\u001b[0m\u001b[1;33m\u001b[0m\u001b[0m\n\u001b[0;32m      2\u001b[0m \u001b[1;31m# print (dataset_dict)\u001b[0m\u001b[1;33m\u001b[0m\u001b[1;33m\u001b[0m\u001b[1;33m\u001b[0m\u001b[0m\n\u001b[1;32m----> 3\u001b[1;33m \u001b[0mdf\u001b[0m \u001b[1;33m=\u001b[0m \u001b[0mpd\u001b[0m\u001b[1;33m.\u001b[0m\u001b[0mDataFrame\u001b[0m\u001b[1;33m(\u001b[0m\u001b[0mdataset_dict\u001b[0m\u001b[1;33m,\u001b[0m \u001b[0mcolumns\u001b[0m\u001b[1;33m=\u001b[0m \u001b[1;33m[\u001b[0m\u001b[1;34m'title'\u001b[0m\u001b[1;33m,\u001b[0m \u001b[1;34m'keterangan'\u001b[0m\u001b[1;33m,\u001b[0m \u001b[1;34m'jumlah_data'\u001b[0m\u001b[1;33m,\u001b[0m \u001b[1;34m'title_per_data'\u001b[0m\u001b[1;33m,\u001b[0m \u001b[1;34m'csv_per_data'\u001b[0m\u001b[1;33m]\u001b[0m\u001b[1;33m)\u001b[0m\u001b[1;33m\u001b[0m\u001b[1;33m\u001b[0m\u001b[0m\n\u001b[0m\u001b[0;32m      4\u001b[0m \u001b[0mexport_csv\u001b[0m \u001b[1;33m=\u001b[0m \u001b[0mdf\u001b[0m\u001b[1;33m.\u001b[0m\u001b[0mto_csv\u001b[0m \u001b[1;33m(\u001b[0m\u001b[1;34mr'dataset_jakarta_part2.csv'\u001b[0m\u001b[1;33m,\u001b[0m \u001b[0mindex\u001b[0m \u001b[1;33m=\u001b[0m \u001b[1;32mNone\u001b[0m\u001b[1;33m,\u001b[0m \u001b[0mheader\u001b[0m\u001b[1;33m=\u001b[0m\u001b[1;32mTrue\u001b[0m\u001b[1;33m)\u001b[0m\u001b[1;33m\u001b[0m\u001b[1;33m\u001b[0m\u001b[0m\n\u001b[0;32m      5\u001b[0m \u001b[1;33m\u001b[0m\u001b[0m\n",
      "\u001b[1;32m~\\Anaconda2\\envs\\py3\\lib\\site-packages\\pandas\\core\\frame.py\u001b[0m in \u001b[0;36m__init__\u001b[1;34m(self, data, index, columns, dtype, copy)\u001b[0m\n\u001b[0;32m    346\u001b[0m                                  dtype=dtype, copy=copy)\n\u001b[0;32m    347\u001b[0m         \u001b[1;32melif\u001b[0m \u001b[0misinstance\u001b[0m\u001b[1;33m(\u001b[0m\u001b[0mdata\u001b[0m\u001b[1;33m,\u001b[0m \u001b[0mdict\u001b[0m\u001b[1;33m)\u001b[0m\u001b[1;33m:\u001b[0m\u001b[1;33m\u001b[0m\u001b[1;33m\u001b[0m\u001b[0m\n\u001b[1;32m--> 348\u001b[1;33m             \u001b[0mmgr\u001b[0m \u001b[1;33m=\u001b[0m \u001b[0mself\u001b[0m\u001b[1;33m.\u001b[0m\u001b[0m_init_dict\u001b[0m\u001b[1;33m(\u001b[0m\u001b[0mdata\u001b[0m\u001b[1;33m,\u001b[0m \u001b[0mindex\u001b[0m\u001b[1;33m,\u001b[0m \u001b[0mcolumns\u001b[0m\u001b[1;33m,\u001b[0m \u001b[0mdtype\u001b[0m\u001b[1;33m=\u001b[0m\u001b[0mdtype\u001b[0m\u001b[1;33m)\u001b[0m\u001b[1;33m\u001b[0m\u001b[1;33m\u001b[0m\u001b[0m\n\u001b[0m\u001b[0;32m    349\u001b[0m         \u001b[1;32melif\u001b[0m \u001b[0misinstance\u001b[0m\u001b[1;33m(\u001b[0m\u001b[0mdata\u001b[0m\u001b[1;33m,\u001b[0m \u001b[0mma\u001b[0m\u001b[1;33m.\u001b[0m\u001b[0mMaskedArray\u001b[0m\u001b[1;33m)\u001b[0m\u001b[1;33m:\u001b[0m\u001b[1;33m\u001b[0m\u001b[1;33m\u001b[0m\u001b[0m\n\u001b[0;32m    350\u001b[0m             \u001b[1;32mimport\u001b[0m \u001b[0mnumpy\u001b[0m\u001b[1;33m.\u001b[0m\u001b[0mma\u001b[0m\u001b[1;33m.\u001b[0m\u001b[0mmrecords\u001b[0m \u001b[1;32mas\u001b[0m \u001b[0mmrecords\u001b[0m\u001b[1;33m\u001b[0m\u001b[1;33m\u001b[0m\u001b[0m\n",
      "\u001b[1;32m~\\Anaconda2\\envs\\py3\\lib\\site-packages\\pandas\\core\\frame.py\u001b[0m in \u001b[0;36m_init_dict\u001b[1;34m(self, data, index, columns, dtype)\u001b[0m\n\u001b[0;32m    437\u001b[0m                 \u001b[1;31m# GH10856\u001b[0m\u001b[1;33m\u001b[0m\u001b[1;33m\u001b[0m\u001b[1;33m\u001b[0m\u001b[0m\n\u001b[0;32m    438\u001b[0m                 \u001b[1;31m# raise ValueError if only scalars in dict\u001b[0m\u001b[1;33m\u001b[0m\u001b[1;33m\u001b[0m\u001b[1;33m\u001b[0m\u001b[0m\n\u001b[1;32m--> 439\u001b[1;33m                 \u001b[0mindex\u001b[0m \u001b[1;33m=\u001b[0m \u001b[0mextract_index\u001b[0m\u001b[1;33m(\u001b[0m\u001b[0marrays\u001b[0m\u001b[1;33m[\u001b[0m\u001b[1;33m~\u001b[0m\u001b[0mmissing\u001b[0m\u001b[1;33m]\u001b[0m\u001b[1;33m)\u001b[0m\u001b[1;33m\u001b[0m\u001b[1;33m\u001b[0m\u001b[0m\n\u001b[0m\u001b[0;32m    440\u001b[0m             \u001b[1;32melse\u001b[0m\u001b[1;33m:\u001b[0m\u001b[1;33m\u001b[0m\u001b[1;33m\u001b[0m\u001b[0m\n\u001b[0;32m    441\u001b[0m                 \u001b[0mindex\u001b[0m \u001b[1;33m=\u001b[0m \u001b[0m_ensure_index\u001b[0m\u001b[1;33m(\u001b[0m\u001b[0mindex\u001b[0m\u001b[1;33m)\u001b[0m\u001b[1;33m\u001b[0m\u001b[1;33m\u001b[0m\u001b[0m\n",
      "\u001b[1;32m~\\Anaconda2\\envs\\py3\\lib\\site-packages\\pandas\\core\\frame.py\u001b[0m in \u001b[0;36mextract_index\u001b[1;34m(data)\u001b[0m\n\u001b[0;32m   7400\u001b[0m             \u001b[0mlengths\u001b[0m \u001b[1;33m=\u001b[0m \u001b[0mlist\u001b[0m\u001b[1;33m(\u001b[0m\u001b[0mset\u001b[0m\u001b[1;33m(\u001b[0m\u001b[0mraw_lengths\u001b[0m\u001b[1;33m)\u001b[0m\u001b[1;33m)\u001b[0m\u001b[1;33m\u001b[0m\u001b[1;33m\u001b[0m\u001b[0m\n\u001b[0;32m   7401\u001b[0m             \u001b[1;32mif\u001b[0m \u001b[0mlen\u001b[0m\u001b[1;33m(\u001b[0m\u001b[0mlengths\u001b[0m\u001b[1;33m)\u001b[0m \u001b[1;33m>\u001b[0m \u001b[1;36m1\u001b[0m\u001b[1;33m:\u001b[0m\u001b[1;33m\u001b[0m\u001b[1;33m\u001b[0m\u001b[0m\n\u001b[1;32m-> 7402\u001b[1;33m                 \u001b[1;32mraise\u001b[0m \u001b[0mValueError\u001b[0m\u001b[1;33m(\u001b[0m\u001b[1;34m'arrays must all be same length'\u001b[0m\u001b[1;33m)\u001b[0m\u001b[1;33m\u001b[0m\u001b[1;33m\u001b[0m\u001b[0m\n\u001b[0m\u001b[0;32m   7403\u001b[0m \u001b[1;33m\u001b[0m\u001b[0m\n\u001b[0;32m   7404\u001b[0m             \u001b[1;32mif\u001b[0m \u001b[0mhave_dicts\u001b[0m\u001b[1;33m:\u001b[0m\u001b[1;33m\u001b[0m\u001b[1;33m\u001b[0m\u001b[0m\n",
      "\u001b[1;31mValueError\u001b[0m: arrays must all be same length"
     ]
    }
   ],
   "source": [
    "dataset_dict = {'title':dtset_title, 'keterangan':dtset_ket, 'jumlah_data':dtset_ndata, 'title_per_data':dtset_data, 'csv_per_data':dtset_csvperdata}\n",
    "# print (dataset_dict)\n",
    "df = pd.DataFrame(dataset_dict, columns= ['title', 'keterangan', 'jumlah_data', 'title_per_data', 'csv_per_data'])\n",
    "export_csv = df.to_csv (r'dataset_jakarta_part2.csv', index = None, header=True) \n",
    "\n",
    "\n",
    "print (df.head(10))"
   ]
  },
  {
   "cell_type": "code",
   "execution_count": 226,
   "metadata": {},
   "outputs": [],
   "source": [
    "# open_data = pd.read_csv('dataset_jakarta_part2.csv')\n",
    "# print (open_data.head())"
   ]
  },
  {
   "cell_type": "code",
   "execution_count": 222,
   "metadata": {},
   "outputs": [],
   "source": [
    "# (open_data['title_per_data'][0])"
   ]
  },
  {
   "cell_type": "code",
   "execution_count": 223,
   "metadata": {},
   "outputs": [],
   "source": [
    "# len((open_data['title_per_data'][0]).split(';*;'))"
   ]
  },
  {
   "cell_type": "code",
   "execution_count": 224,
   "metadata": {},
   "outputs": [],
   "source": [
    "# (open_data['csv_per_data'][0])"
   ]
  },
  {
   "cell_type": "code",
   "execution_count": 225,
   "metadata": {},
   "outputs": [],
   "source": [
    "# ((open_data['csv_per_data'][0]).split(';*;'))"
   ]
  },
  {
   "cell_type": "code",
   "execution_count": null,
   "metadata": {},
   "outputs": [],
   "source": []
  }
 ],
 "metadata": {
  "kernelspec": {
   "display_name": "Python 3",
   "language": "python",
   "name": "python3"
  },
  "language_info": {
   "codemirror_mode": {
    "name": "ipython",
    "version": 3
   },
   "file_extension": ".py",
   "mimetype": "text/x-python",
   "name": "python",
   "nbconvert_exporter": "python",
   "pygments_lexer": "ipython3",
   "version": "3.6.7"
  }
 },
 "nbformat": 4,
 "nbformat_minor": 2
}
